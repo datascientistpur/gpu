{
 "cells": [
  {
   "cell_type": "code",
   "execution_count": 1,
   "metadata": {},
   "outputs": [],
   "source": [
    "######Libraries\n",
    "import cudf\n",
    "import pandas as pd\n",
    "import os\n",
    "import numpy as np\n",
    "from numba import cuda"
   ]
  },
  {
   "cell_type": "code",
   "execution_count": 2,
   "metadata": {},
   "outputs": [],
   "source": [
    "#cudf.set_allocator(pool=True)\n",
    "from librmm_cffi import librmm_config as rmm_cfg\n",
    "rmm_cfg.use_pool_allocator = True # default is False\n",
    "rmm_cfg.use_managed_memory = True # default is False\n",
    "\n",
    "import cupy as cp\n",
    "pool = cp.cuda.MemoryPool(cp.cuda.malloc_managed)\n",
    "cp.cuda.set_allocator(pool.malloc)"
   ]
  },
  {
   "cell_type": "code",
   "execution_count": 3,
   "metadata": {},
   "outputs": [
    {
     "name": "stdout",
     "output_type": "stream",
     "text": [
      "CPU times: user 198 ms, sys: 173 ms, total: 371 ms\n",
      "Wall time: 407 ms\n",
      "CPU times: user 272 ms, sys: 23.7 ms, total: 296 ms\n",
      "Wall time: 295 ms\n"
     ]
    }
   ],
   "source": [
    "'''Read Files\n",
    "cdf_file is the cudf file i.e. on GPU\n",
    "pd_file is the pandas variant i.e. on CPU\n",
    "Note cudf doesn't support read/write from/to excel,pickle files'''\n",
    "%time cdf_file=cudf.read_csv(\"online_retail.csv\")\n",
    "%time pd_file=pd.read_csv(\"online_retail.csv\")"
   ]
  },
  {
   "cell_type": "code",
   "execution_count": 4,
   "metadata": {},
   "outputs": [],
   "source": [
    "#'''Data-set is the spends at an online retail store.It has 8 columns the metadata is as follows\n",
    "#1. Invoice         invoice number          string\n",
    "#2. StockCode       Stock  code             string\n",
    "#3. Description     item name               string\n",
    "#4. Quantity        Quantity bought         int\n",
    "#5. InvoiceDate     Date of the invoce      date-time(yyyy-mm-dd hh:mm:ss)\n",
    "#6. Price           Unit Price              float\n",
    "#7. Customer ID     ID of the customer      string\n",
    "#8. Country         origin of the customer  string'''"
   ]
  },
  {
   "cell_type": "code",
   "execution_count": 5,
   "metadata": {},
   "outputs": [
    {
     "name": "stdout",
     "output_type": "stream",
     "text": [
      "CPU times: user 35.7 ms, sys: 0 ns, total: 35.7 ms\n",
      "Wall time: 35.6 ms\n",
      "CPU times: user 30.8 ms, sys: 0 ns, total: 30.8 ms\n",
      "Wall time: 30.6 ms\n",
      "CPU times: user 247 ms, sys: 3.42 ms, total: 251 ms\n",
      "Wall time: 251 ms\n"
     ]
    }
   ],
   "source": [
    "'''Group-by 2 variants\n",
    "1. Using value_counts\n",
    "2. Using group by as a substitute for value_count method\n",
    "\n",
    "CuDF doesn't support value_counts on a string column.\n",
    "Similarly other standard methods available in pandas for string data-types are \n",
    "unsupported unless we make us of nvstrings package\n",
    "CuDF Documentation:https://rapidsai.github.io/projects/cudf/en/latest/api.html\n",
    "'''\n",
    "%time pd_count = pd_file['Country'].value_counts()\n",
    "%time pd_count1 = pd_file.groupby(['Country'])['StockCode'].count() \n",
    "#%time cudf_count = cdf_file['Country'].value_counts()\n",
    "%time cudf_count = cdf_file.groupby(['Country'])['StockCode'].count() "
   ]
  },
  {
   "cell_type": "code",
   "execution_count": 6,
   "metadata": {},
   "outputs": [
    {
     "name": "stdout",
     "output_type": "stream",
     "text": [
      "CPU times: user 1.12 ms, sys: 167 µs, total: 1.29 ms\n",
      "Wall time: 834 µs\n",
      "CPU times: user 5.13 ms, sys: 4.24 ms, total: 9.37 ms\n",
      "Wall time: 4.24 ms\n"
     ]
    }
   ],
   "source": [
    "'''Computation of invoice,item level net price\n",
    "Approach-1:Vectorized approach\n",
    "'''\n",
    "%time cdf_file['Net_Price']=cdf_file.Quantity*cdf_file.Price\n",
    "%time pd_file['Net_Price']=pd_file.Quantity*pd_file.Price"
   ]
  },
  {
   "cell_type": "code",
   "execution_count": 7,
   "metadata": {},
   "outputs": [
    {
     "name": "stdout",
     "output_type": "stream",
     "text": [
      "CPU times: user 267 ms, sys: 35 µs, total: 267 ms\n",
      "Wall time: 266 ms\n",
      "CPU times: user 8.4 s, sys: 30.4 ms, total: 8.43 s\n",
      "Wall time: 8.43 s\n"
     ]
    }
   ],
   "source": [
    "'''Computation of invoice,item level net price\n",
    "Approach-2:Row-wise\n",
    "apply chunk:incols i.e. columns required as input,outcols i.e. output generated post processing.\n",
    "Note incols and outcols to be of int/float/datetime arrays.chunks is the number of rows to be processed at once and tpb is threads per block.\n",
    "CUDA works on the principle of threads and not cores.The looping construct is automatically unrolled to the parallel\n",
    "variant by the compiler.\n",
    "'''\n",
    "def set_net_item_price_cudf(Quantity, Price, out):\n",
    "    for i, (x, y) in enumerate(zip(Quantity,Price)):\n",
    "        out[i] = x * y\n",
    "def set_net_item_price_pd(Quantity, Price):\n",
    "    return(Quantity*Price)\n",
    "%time outdf_cudf=cdf_file.apply_chunks(set_net_item_price_cudf,incols=['Quantity', 'Price'],outcols=dict(out=np.float64),kwargs=dict(),chunks=16,tpb=4)\n",
    "%time outdf_pandas=pd_file.apply(lambda x: set_net_item_price_pd(Quantity=x['Quantity'],Price=x['Price']),axis=1)"
   ]
  },
  {
   "cell_type": "code",
   "execution_count": 8,
   "metadata": {},
   "outputs": [],
   "source": [
    "'''Get Handle of current context and compute memory consumption before filter'''\n",
    "ctx=cuda.current_context()\n",
    "mem=ctx.get_memory_info()\n",
    "pre_cudf_mem_consumed=(mem.total-mem.free)/1e9"
   ]
  },
  {
   "cell_type": "code",
   "execution_count": 9,
   "metadata": {},
   "outputs": [
    {
     "name": "stdout",
     "output_type": "stream",
     "text": [
      "CPU times: user 322 ms, sys: 32 ms, total: 354 ms\n",
      "Wall time: 354 ms\n",
      "Memory consumption of the new cudf frame post filter: 0.10905190399999998 GB\n",
      "CPU times: user 339 ms, sys: 7.95 ms, total: 346 ms\n",
      "Wall time: 346 ms\n",
      "Memory consumption of the new pandas frame post filter: 0.03892752 GB\n"
     ]
    }
   ],
   "source": [
    "'''String Functionality and memory usage\n",
    "CuDF supports only nvstrings for string based maipulations.The functionality for strings is quite similar to re\n",
    "based maipulation.\n",
    "Detailed Documentation:https://rapids.readthedocs.io/projects/nvstrings/en/latest/api.html\n",
    "Evident that the memory consumption explodes on the GPU\n",
    "'''\n",
    "%time string_filter_cudf=cdf_file[cdf_file.Country.str.lower().str.contains('^un',regex=True)]\n",
    "mem=ctx.get_memory_info()\n",
    "post_cudf_mem_consumed=(mem.total-mem.free)/1e9\n",
    "print('Memory consumption of the new cudf frame post filter:',(post_cudf_mem_consumed-pre_cudf_mem_consumed),\"GB\")\n",
    "%time string_filter_pandas=pd_file[pd_file.Country.str.lower().str.contains('^un',regex=True)]\n",
    "print('Memory consumption of the new pandas frame post filter:',sum(string_filter_pandas.memory_usage()/1e9),\"GB\")\n"
   ]
  }
 ],
 "metadata": {
  "kernelspec": {
   "display_name": "Python 3",
   "language": "python",
   "name": "python3"
  },
  "language_info": {
   "codemirror_mode": {
    "name": "ipython",
    "version": 3
   },
   "file_extension": ".py",
   "mimetype": "text/x-python",
   "name": "python",
   "nbconvert_exporter": "python",
   "pygments_lexer": "ipython3",
   "version": "3.7.6"
  }
 },
 "nbformat": 4,
 "nbformat_minor": 4
}
