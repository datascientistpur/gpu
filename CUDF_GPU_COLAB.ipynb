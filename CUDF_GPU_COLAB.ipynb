{
  "nbformat": 4,
  "nbformat_minor": 0,
  "metadata": {
    "colab": {
      "name": "Copy of Copy of Copy of Copy of Untitled2.ipynb",
      "provenance": [],
      "collapsed_sections": [],
      "include_colab_link": true
    },
    "kernelspec": {
      "name": "python3",
      "display_name": "Python 3"
    },
    "accelerator": "GPU"
  },
  "cells": [
    {
      "cell_type": "markdown",
      "metadata": {
        "id": "view-in-github",
        "colab_type": "text"
      },
      "source": [
        "<a href=\"https://colab.research.google.com/github/datascientistpur/gpu/blob/master/CUDF_GPU_COLAB\" target=\"_parent\"><img src=\"https://colab.research.google.com/assets/colab-badge.svg\" alt=\"Open In Colab\"/></a>"
      ]
    },
    {
      "cell_type": "code",
      "metadata": {
        "id": "1qSddJYAw8CN",
        "colab_type": "code",
        "outputId": "254dcfb1-ec45-496b-a923-d4b334849b2e",
        "colab": {
          "base_uri": "https://localhost:8080/",
          "height": 306
        }
      },
      "source": [
        "'''Check if GPU is activated if not then perform \n",
        "Runtime->change runtime type->Hardware Accelerator->GPU->save\n",
        "Ensure that the GPU is Tesla K80 then try changing the runtime again.Since K80 doesn't support cuda10,which is our base dependency.\n",
        "'''\n",
        "!nvidia-smi "
      ],
      "execution_count": 0,
      "outputs": [
        {
          "output_type": "stream",
          "text": [
            "Sat Apr 11 05:11:03 2020       \n",
            "+-----------------------------------------------------------------------------+\n",
            "| NVIDIA-SMI 440.64.00    Driver Version: 418.67       CUDA Version: 10.1     |\n",
            "|-------------------------------+----------------------+----------------------+\n",
            "| GPU  Name        Persistence-M| Bus-Id        Disp.A | Volatile Uncorr. ECC |\n",
            "| Fan  Temp  Perf  Pwr:Usage/Cap|         Memory-Usage | GPU-Util  Compute M. |\n",
            "|===============================+======================+======================|\n",
            "|   0  Tesla P100-PCIE...  Off  | 00000000:00:04.0 Off |                    0 |\n",
            "| N/A   33C    P0    25W / 250W |      0MiB / 16280MiB |      0%      Default |\n",
            "+-------------------------------+----------------------+----------------------+\n",
            "                                                                               \n",
            "+-----------------------------------------------------------------------------+\n",
            "| Processes:                                                       GPU Memory |\n",
            "|  GPU       PID   Type   Process name                             Usage      |\n",
            "|=============================================================================|\n",
            "|  No running processes found                                                 |\n",
            "+-----------------------------------------------------------------------------+\n"
          ],
          "name": "stdout"
        }
      ]
    },
    {
      "cell_type": "code",
      "metadata": {
        "id": "on2SnXFcxT1D",
        "colab_type": "code",
        "outputId": "6900cdac-c0bc-4de8-94ef-3bccc65fdfd4",
        "colab": {
          "base_uri": "https://localhost:8080/",
          "height": 782
        }
      },
      "source": [
        "'''Install CuDF and restart and post restart run the above cell then straight continue with RMM\n",
        "'''\n",
        "!pip install cudf-cuda100"
      ],
      "execution_count": 0,
      "outputs": [
        {
          "output_type": "stream",
          "text": [
            "Collecting cudf-cuda100\n",
            "\u001b[?25l  Downloading https://files.pythonhosted.org/packages/39/a5/a40e0e0290c332cb2c27dd824c3e8f242d56af27cfdb4da92e5ebe0cf076/cudf_cuda100-0.6.1-cp36-cp36m-manylinux1_x86_64.whl (17.2MB)\n",
            "\u001b[K     |████████████████████████████████| 17.2MB 202kB/s \n",
            "\u001b[?25hRequirement already satisfied: cython<0.30,>=0.29 in /usr/local/lib/python3.6/dist-packages (from cudf-cuda100) (0.29.16)\n",
            "Collecting pycparser==2.19\n",
            "\u001b[?25l  Downloading https://files.pythonhosted.org/packages/68/9e/49196946aee219aead1290e00d1e7fdeab8567783e83e1b9ab5585e6206a/pycparser-2.19.tar.gz (158kB)\n",
            "\u001b[K     |████████████████████████████████| 163kB 56.8MB/s \n",
            "\u001b[?25hRequirement already satisfied: pandas>=0.23.4 in /usr/local/lib/python3.6/dist-packages (from cudf-cuda100) (1.0.3)\n",
            "Collecting numba<0.42,>=0.40.0\n",
            "\u001b[?25l  Downloading https://files.pythonhosted.org/packages/31/55/938f0023a4f37fe24460d46846670aba8170a6b736f1693293e710d4a6d0/numba-0.41.0-cp36-cp36m-manylinux1_x86_64.whl (3.2MB)\n",
            "\u001b[K     |████████████████████████████████| 3.2MB 51.5MB/s \n",
            "\u001b[?25hRequirement already satisfied: cffi>=1.0.0 in /usr/local/lib/python3.6/dist-packages (from cudf-cuda100) (1.14.0)\n",
            "Requirement already satisfied: numpy>=1.14 in /usr/local/lib/python3.6/dist-packages (from cudf-cuda100) (1.18.2)\n",
            "Collecting nvstrings-cuda100\n",
            "\u001b[?25l  Downloading https://files.pythonhosted.org/packages/e5/88/5cddf81ffc06908d1cba1dca357e3eb1dab050f46881752fdb4084eb1484/nvstrings_cuda100-0.3.0.post1-cp36-cp36m-manylinux1_x86_64.whl (9.1MB)\n",
            "\u001b[K     |████████████████████████████████| 9.1MB 41.0MB/s \n",
            "\u001b[?25hCollecting pyarrow==0.12.1\n",
            "\u001b[?25l  Downloading https://files.pythonhosted.org/packages/13/37/eb9aefcd6a041dffb4db6729daea2a91a01a1bf9815e02a3d35281348a85/pyarrow-0.12.1-cp36-cp36m-manylinux1_x86_64.whl (12.4MB)\n",
            "\u001b[K     |████████████████████████████████| 12.4MB 250kB/s \n",
            "\u001b[?25hRequirement already satisfied: pytz>=2017.2 in /usr/local/lib/python3.6/dist-packages (from pandas>=0.23.4->cudf-cuda100) (2018.9)\n",
            "Requirement already satisfied: python-dateutil>=2.6.1 in /usr/local/lib/python3.6/dist-packages (from pandas>=0.23.4->cudf-cuda100) (2.8.1)\n",
            "Requirement already satisfied: llvmlite>=0.26.0dev0 in /usr/local/lib/python3.6/dist-packages (from numba<0.42,>=0.40.0->cudf-cuda100) (0.31.0)\n",
            "Requirement already satisfied: six>=1.0.0 in /usr/local/lib/python3.6/dist-packages (from pyarrow==0.12.1->cudf-cuda100) (1.12.0)\n",
            "Building wheels for collected packages: pycparser\n",
            "  Building wheel for pycparser (setup.py) ... \u001b[?25l\u001b[?25hdone\n",
            "  Created wheel for pycparser: filename=pycparser-2.19-py2.py3-none-any.whl size=111031 sha256=dfc17a67f42ebab91200cb06fbc6061712f23b28c1cdb0988964149785e7610d\n",
            "  Stored in directory: /root/.cache/pip/wheels/f2/9a/90/de94f8556265ddc9d9c8b271b0f63e57b26fb1d67a45564511\n",
            "Successfully built pycparser\n",
            "\u001b[31mERROR: umap-learn 0.4.0 has requirement numba!=0.47,>=0.46, but you'll have numba 0.41.0 which is incompatible.\u001b[0m\n",
            "Installing collected packages: pycparser, numba, nvstrings-cuda100, pyarrow, cudf-cuda100\n",
            "  Found existing installation: pycparser 2.20\n",
            "    Uninstalling pycparser-2.20:\n",
            "      Successfully uninstalled pycparser-2.20\n",
            "  Found existing installation: numba 0.48.0\n",
            "    Uninstalling numba-0.48.0:\n",
            "      Successfully uninstalled numba-0.48.0\n",
            "  Found existing installation: pyarrow 0.14.1\n",
            "    Uninstalling pyarrow-0.14.1:\n",
            "      Successfully uninstalled pyarrow-0.14.1\n",
            "Successfully installed cudf-cuda100-0.6.1 numba-0.41.0 nvstrings-cuda100-0.3.0.post1 pyarrow-0.12.1 pycparser-2.19\n"
          ],
          "name": "stdout"
        },
        {
          "output_type": "display_data",
          "data": {
            "application/vnd.colab-display-data+json": {
              "pip_warning": {
                "packages": [
                  "pyarrow"
                ]
              }
            }
          },
          "metadata": {
            "tags": []
          }
        }
      ]
    },
    {
      "cell_type": "code",
      "metadata": {
        "id": "R8wWUY8Yxa2p",
        "colab_type": "code",
        "colab": {}
      },
      "source": [
        "####Add RMM to the current path.\n",
        "!cp /usr/local/lib/python3.6/dist-packages/librmm.so ."
      ],
      "execution_count": 0,
      "outputs": []
    },
    {
      "cell_type": "code",
      "metadata": {
        "id": "QEqR5hI5x4rU",
        "colab_type": "code",
        "colab": {}
      },
      "source": [
        "####NVMM path\n",
        "import os  \n",
        "os.environ['NUMBAPRO_NVVM']='/usr/local/cuda-10.0/nvvm/lib64/libnvvm.so'  \n",
        "os.environ['NUMBAPRO_LIBDEVICE']='/usr/local/cuda-10.0/nvvm/libdevice'"
      ],
      "execution_count": 0,
      "outputs": []
    },
    {
      "cell_type": "code",
      "metadata": {
        "id": "c6fEgummyJcz",
        "colab_type": "code",
        "colab": {}
      },
      "source": [
        "######Libraries\n",
        "import cudf\n",
        "import pandas as pd\n",
        "import numpy as np\n",
        "from numba import cuda\n",
        "import torch\n",
        "import os"
      ],
      "execution_count": 0,
      "outputs": []
    },
    {
      "cell_type": "code",
      "metadata": {
        "id": "GkmEc2aSyOi_",
        "colab_type": "code",
        "outputId": "b3000574-24d2-4844-f142-9367cf89a4da",
        "colab": {
          "base_uri": "https://localhost:8080/",
          "height": 85
        }
      },
      "source": [
        "print(\"pandas version:\",pd.__version__)\n",
        "print(\"cudf version:\",cudf.__version__)\n",
        "print(\"numpy version:\",np.__version__)\n",
        "print(\"cuda version:\",torch.version.cuda)"
      ],
      "execution_count": 0,
      "outputs": [
        {
          "output_type": "stream",
          "text": [
            "pandas version: 1.0.3\n",
            "cudf version: 0+unknown\n",
            "numpy version: 1.18.2\n",
            "cuda version: 10.1\n"
          ],
          "name": "stdout"
        }
      ]
    },
    {
      "cell_type": "code",
      "metadata": {
        "id": "pXxK61-ZyU8b",
        "colab_type": "code",
        "colab": {}
      },
      "source": [
        "######Get handle of the current CUDA context to be able to compute the memory level stats\n",
        "context=cuda.current_context()\n",
        "cudf_mem_space=context.get_memory_info()"
      ],
      "execution_count": 0,
      "outputs": []
    },
    {
      "cell_type": "code",
      "metadata": {
        "id": "APdeWQQx3-Tv",
        "colab_type": "code",
        "colab": {}
      },
      "source": [
        "#'''Data-set is the spends at an online retail store.It has 8 columns the metadata is as follows\n",
        "#1. Invoice         invoice number          string\n",
        "#2. StockCode       Stock  code             string\n",
        "#3. Description     item name               string\n",
        "#4. Quantity        Quantity bought         int\n",
        "#5. InvoiceDate     Date of the invoce      date-time(yyyy-mm-dd hh:mm:ss)\n",
        "#6. Price           Unit Price              float\n",
        "#7. Customer ID     ID of the customer      string\n",
        "#8. Country         origin of the customer  string'''"
      ],
      "execution_count": 0,
      "outputs": []
    },
    {
      "cell_type": "code",
      "metadata": {
        "id": "fUOdkKRI6oIs",
        "colab_type": "code",
        "outputId": "4a07ed31-825e-4e56-cf6d-7a317b29d0a2",
        "colab": {
          "resources": {
            "http://localhost:8080/nbextensions/google.colab/files.js": {
              "data": "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",
              "ok": true,
              "headers": [
                [
                  "content-type",
                  "application/javascript"
                ]
              ],
              "status": 200,
              "status_text": ""
            }
          },
          "base_uri": "https://localhost:8080/",
          "height": 74
        }
      },
      "source": [
        "from google.colab import files\n",
        "uploaded = files.upload()"
      ],
      "execution_count": 0,
      "outputs": [
        {
          "output_type": "display_data",
          "data": {
            "text/html": [
              "\n",
              "     <input type=\"file\" id=\"files-b22a8820-1add-4da7-a27d-38ceb8780514\" name=\"files[]\" multiple disabled />\n",
              "     <output id=\"result-b22a8820-1add-4da7-a27d-38ceb8780514\">\n",
              "      Upload widget is only available when the cell has been executed in the\n",
              "      current browser session. Please rerun this cell to enable.\n",
              "      </output>\n",
              "      <script src=\"/nbextensions/google.colab/files.js\"></script> "
            ],
            "text/plain": [
              "<IPython.core.display.HTML object>"
            ]
          },
          "metadata": {
            "tags": []
          }
        },
        {
          "output_type": "stream",
          "text": [
            "Saving online_retail.csv to online_retail.csv\n"
          ],
          "name": "stdout"
        }
      ]
    },
    {
      "cell_type": "code",
      "metadata": {
        "id": "L6CktnT77XrE",
        "colab_type": "code",
        "outputId": "14be3a8e-f5ee-4522-e68d-2cc3fc6c53f2",
        "colab": {
          "base_uri": "https://localhost:8080/",
          "height": 85
        }
      },
      "source": [
        "'''Read Files\n",
        "cdf_file is the cudf file i.e. on GPU\n",
        "pd_file is the pandas variant i.e. on CPU\n",
        "Note cudf doesn't support read/write from/to excel,pickle files'''\n",
        "import io\n",
        "%time cdf_file=cudf.read_csv(io.BytesIO(uploaded[\"online_retail.csv\"]))\n",
        "%time pd_file=pd.read_csv(io.BytesIO(uploaded[\"online_retail.csv\"]))"
      ],
      "execution_count": 0,
      "outputs": [
        {
          "output_type": "stream",
          "text": [
            "CPU times: user 122 ms, sys: 42 ms, total: 164 ms\n",
            "Wall time: 173 ms\n",
            "CPU times: user 585 ms, sys: 11 ms, total: 596 ms\n",
            "Wall time: 600 ms\n"
          ],
          "name": "stdout"
        }
      ]
    },
    {
      "cell_type": "code",
      "metadata": {
        "id": "4hfT7TvQ_hqH",
        "colab_type": "code",
        "outputId": "397a4c86-2a00-496e-c61d-cf9c48584bb1",
        "colab": {
          "base_uri": "https://localhost:8080/",
          "height": 51
        }
      },
      "source": [
        "'''Memory consumption for both cudf and pandas'''\n",
        "cudf_mem_space_post_load=context.get_memory_info()\n",
        "print(\"Memory consumed by the CuDF:\",(cudf_mem_space.free-cudf_mem_space_post_load.free)/1e9,\"GB\")\n",
        "print(\"Memory consumed by the pandas frame:\",(sum(pd_file.memory_usage()))/1e9,\"GB\")"
      ],
      "execution_count": 0,
      "outputs": [
        {
          "output_type": "stream",
          "text": [
            "Memory consumed by the CuDF: 0.109051904 GB\n",
            "Memory consumed by the pandas frame: 0.033629632 GB\n"
          ],
          "name": "stdout"
        }
      ]
    },
    {
      "cell_type": "code",
      "metadata": {
        "id": "-ciL-QCj_j-u",
        "colab_type": "code",
        "colab": {}
      },
      "source": [
        "'''Sub-setting Data-1\n",
        "Using loc'''\n",
        "cdf_file_subset=cdf_file.loc[1:1000]\n",
        "pd_file_subset=pd_file.loc[1:1000]"
      ],
      "execution_count": 0,
      "outputs": []
    },
    {
      "cell_type": "code",
      "metadata": {
        "id": "bndlxUwmAYu2",
        "colab_type": "code",
        "colab": {}
      },
      "source": [
        "'''Sub-setting Data-2\n",
        "Using iloc'''\n",
        "cdf_file_subset=cdf_file.iloc[1:5]\n",
        "pd_file_subset=pd_file.iloc[1:5]"
      ],
      "execution_count": 0,
      "outputs": []
    },
    {
      "cell_type": "code",
      "metadata": {
        "id": "dRsdqc7MAgmC",
        "colab_type": "code",
        "colab": {}
      },
      "source": [
        "####Note the cudf querying runs on latest cudf i.e. 0.6.1.\n",
        "#cdf_file_query=cdf_file[cdf_file.Price>10]\n",
        "pd_file_query=pd_file[pd_file.Price>10]"
      ],
      "execution_count": 0,
      "outputs": []
    },
    {
      "cell_type": "code",
      "metadata": {
        "id": "q03HHxnjA_MT",
        "colab_type": "code",
        "outputId": "88605ec5-e056-4471-b697-6abcc8d7f217",
        "colab": {
          "base_uri": "https://localhost:8080/",
          "height": 85
        }
      },
      "source": [
        "'''Frequency counts\n",
        "1. Using value_counts\n",
        "2. Using group by as a substitute for value_count method\n",
        "\n",
        "CuDF doesn't support value_counts on a string column.\n",
        "Similarly other standard methods available in pandas for string data-types are unsupported unless we make us of nvstrings package\n",
        "CuDF Documentation:https://rapidsai.github.io/projects/cudf/en/latest/api.html\n",
        "'''\n",
        "%time pd_count = pd_file['Country'].value_counts()\n",
        "%time pd_count1 = pd_file.groupby(['Country'])['StockCode'].count() \n",
        "#%time cudf_count = cdf_file['Country'].value_counts()\n",
        "####Note the cudf querying runs on latest cudf i.e. 0.6.1.\n",
        "#%time cudf_count = cdf_file.groupby(['Country'])['StockCode'].count()"
      ],
      "execution_count": 0,
      "outputs": [
        {
          "output_type": "stream",
          "text": [
            "CPU times: user 55.9 ms, sys: 0 ns, total: 55.9 ms\n",
            "Wall time: 56.3 ms\n",
            "CPU times: user 58.5 ms, sys: 1.64 ms, total: 60.2 ms\n",
            "Wall time: 60.1 ms\n"
          ],
          "name": "stdout"
        }
      ]
    },
    {
      "cell_type": "code",
      "metadata": {
        "id": "QLD2WPPVErae",
        "colab_type": "code",
        "colab": {}
      },
      "source": [
        "'''Sorting data'''\n",
        "cdf_file=cdf_file.sort_values(by=['Invoice','StockCode'],ascending=True)\n",
        "pd_file=pd_file.sort_values(by=['Invoice','StockCode'],ascending=True)"
      ],
      "execution_count": 0,
      "outputs": []
    },
    {
      "cell_type": "code",
      "metadata": {
        "id": "F76ApZSZEzE6",
        "colab_type": "code",
        "colab": {}
      },
      "source": [
        "'''Extending frames'''\n",
        "cdf_file1=cudf.concat([cdf_file,cdf_file],ignore_index=True)\n",
        "pd_file1=pd.concat([pd_file,pd_file],ignore_index=True)"
      ],
      "execution_count": 0,
      "outputs": []
    },
    {
      "cell_type": "code",
      "metadata": {
        "id": "4085_SEAE3NJ",
        "colab_type": "code",
        "colab": {}
      },
      "source": [
        "'''Merging frames'''\n",
        "########Note to join frames both frames need to have the same reference and id names.\n",
        "#cdf_file1=cdf_file.merge(cdf_file[['Invoice','StockCode','Quantity']].rename(columns={'Quantity':'Qty_y','Invoice':'inv','StockCode':\"stk\"}),left_on=['Invoice','StockCode'],right_on=['inv','stk'],how=\"inner\")\n",
        "cdf_file1=cdf_file.merge(cdf_file[['Invoice','StockCode','Quantity']].rename(columns={'Quantity':'Qty_y'}),on=['Invoice','StockCode'],how=\"inner\")\n",
        "pd_file1=pd_file.merge(pd_file[['Invoice','StockCode','Quantity']].rename(columns={'Quantity':'Qty_y','Invoice':'inv','StockCode':\"stk\"}),left_on=['Invoice','StockCode'],right_on=['inv','stk'],how=\"inner\")"
      ],
      "execution_count": 0,
      "outputs": []
    },
    {
      "cell_type": "code",
      "metadata": {
        "id": "COpYp4GuFxju",
        "colab_type": "code",
        "outputId": "6fe74e97-8698-48bb-8747-a249c8108430",
        "colab": {
          "base_uri": "https://localhost:8080/",
          "height": 85
        }
      },
      "source": [
        "'''Computation of invoice,item level net price\n",
        "Approach-1:Vectorized approach\n",
        "'''\n",
        "%time cdf_file['Net_Price']=cdf_file.Quantity*cdf_file.Price\n",
        "%time pd_file['Net_Price']=pd_file.Quantity*pd_file.Price"
      ],
      "execution_count": 0,
      "outputs": [
        {
          "output_type": "stream",
          "text": [
            "CPU times: user 292 ms, sys: 8.92 ms, total: 301 ms\n",
            "Wall time: 484 ms\n",
            "CPU times: user 11.5 ms, sys: 185 µs, total: 11.7 ms\n",
            "Wall time: 16.3 ms\n"
          ],
          "name": "stdout"
        }
      ]
    },
    {
      "cell_type": "code",
      "metadata": {
        "id": "kNIznpu9F7g9",
        "colab_type": "code",
        "outputId": "5335ea0f-dad0-4c1e-9c00-48ee2a7987c5",
        "colab": {
          "base_uri": "https://localhost:8080/",
          "height": 85
        }
      },
      "source": [
        "'''Computation of invoice,item level net price\n",
        "Approach-2:Row-wise\n",
        "apply chunk:incols i.e. columns required as input,outcols i.e. output generated post processing.\n",
        "Note incols and outcols to be of int/float/datetime arrays.chunks is the number of rows to be allotted to each block and tpb is threads per block.\n",
        "CUDA works on the principle of threads and not cores.The looping construct is automatically unrolled to the parallel \n",
        "variant by the compiler.\n",
        "'''\n",
        "def set_net_item_price_cudf(Quantity, Price, out):\n",
        "    for i, (x, y) in enumerate(zip(Quantity,Price)):\n",
        "        out[i] = x * y\n",
        "def set_net_item_price_pd(Quantity, Price):\n",
        "    return(Quantity*Price)\n",
        "%time outdf_cudf=cdf_file.apply_chunks(set_net_item_price_cudf,incols=['Quantity', 'Price'],outcols=dict(out=np.float64),kwargs=dict(),chunks=16,tpb=10)\n",
        "outdf_pandas=pd_file\n",
        "%time outdf_pandas['out']=outdf_pandas.apply(lambda x: set_net_item_price_pd(Quantity=x['Quantity'],Price=x['Price']),axis=1)"
      ],
      "execution_count": 0,
      "outputs": [
        {
          "output_type": "stream",
          "text": [
            "CPU times: user 280 ms, sys: 8.02 ms, total: 288 ms\n",
            "Wall time: 290 ms\n",
            "CPU times: user 11.9 s, sys: 21.7 ms, total: 11.9 s\n",
            "Wall time: 11.9 s\n"
          ],
          "name": "stdout"
        }
      ]
    },
    {
      "cell_type": "code",
      "metadata": {
        "id": "aiuHq55urIKi",
        "colab_type": "code",
        "outputId": "a1cf754b-bb67-4a8e-9f58-0f94578488fb",
        "colab": {
          "base_uri": "https://localhost:8080/",
          "height": 428
        }
      },
      "source": [
        "######The current cudf vaersion doesn't support drop_duplicates.Hence the current code is not executable.The code should run on cudf version>0.5\n",
        "'''%%time\n",
        "def create_master(series,name_to_refer,name_to_id):\n",
        "    master=cudf.DataFrame()\n",
        "    master[name_to_refer]=series\n",
        "    master=master.drop_duplicates()\n",
        "    master[name_to_id]=np.arange(0,(len(master)))\n",
        "    return(master)\n",
        "invoice_master=create_master(cdf_file.Invoice,name_to_refer=\"Invoice\",name_to_id=\"Invoice_ID\")\n",
        "stock_master=create_master(cdf_file.StockCode,name_to_refer=\"StockCode\",name_to_id=\"StockCode_ID\")\n",
        "cdf_file1=cdf_file[['Invoice','StockCode','Quantity','Price']]\n",
        "cdf_file1=cdf_file1.merge(invoice_master,how=\"left\")\n",
        "cdf_file1=cdf_file1.merge(stock_master,how=\"left\")'''"
      ],
      "execution_count": 0,
      "outputs": [
        {
          "output_type": "error",
          "ename": "AttributeError",
          "evalue": "ignored",
          "traceback": [
            "\u001b[0;31m---------------------------------------------------------------------------\u001b[0m",
            "\u001b[0;31mAttributeError\u001b[0m                            Traceback (most recent call last)",
            "\u001b[0;32m<ipython-input-20-3daa172f9567>\u001b[0m in \u001b[0;36m<module>\u001b[0;34m()\u001b[0m\n\u001b[0;32m----> 1\u001b[0;31m \u001b[0mget_ipython\u001b[0m\u001b[0;34m(\u001b[0m\u001b[0;34m)\u001b[0m\u001b[0;34m.\u001b[0m\u001b[0mrun_cell_magic\u001b[0m\u001b[0;34m(\u001b[0m\u001b[0;34m'time'\u001b[0m\u001b[0;34m,\u001b[0m \u001b[0;34m''\u001b[0m\u001b[0;34m,\u001b[0m \u001b[0;34m'def create_master(series,name_to_refer,name_to_id):\\n    master=cudf.DataFrame()\\n    master[name_to_refer]=series\\n    master=master.drop_duplicates()\\n    master[name_to_id]=np.arange(0,(len(master)))\\n    return(master)\\ninvoice_master=create_master(cdf_file.Invoice,name_to_refer=\"Invoice\",name_to_id=\"Invoice_ID\")\\nstock_master=create_master(cdf_file.StockCode,name_to_refer=\"StockCode\",name_to_id=\"StockCode_ID\")\\ncdf_file1=cdf_file[[\\'Invoice\\',\\'StockCode\\',\\'Quantity\\',\\'Price\\']]\\ncdf_file1=cdf_file1.merge(invoice_master,how=\"left\")\\ncdf_file1=cdf_file1.merge(stock_master,how=\"left\")'\u001b[0m\u001b[0;34m)\u001b[0m\u001b[0;34m\u001b[0m\u001b[0;34m\u001b[0m\u001b[0m\n\u001b[0m",
            "\u001b[0;32m/usr/local/lib/python3.6/dist-packages/IPython/core/interactiveshell.py\u001b[0m in \u001b[0;36mrun_cell_magic\u001b[0;34m(self, magic_name, line, cell)\u001b[0m\n\u001b[1;32m   2115\u001b[0m             \u001b[0mmagic_arg_s\u001b[0m \u001b[0;34m=\u001b[0m \u001b[0mself\u001b[0m\u001b[0;34m.\u001b[0m\u001b[0mvar_expand\u001b[0m\u001b[0;34m(\u001b[0m\u001b[0mline\u001b[0m\u001b[0;34m,\u001b[0m \u001b[0mstack_depth\u001b[0m\u001b[0;34m)\u001b[0m\u001b[0;34m\u001b[0m\u001b[0;34m\u001b[0m\u001b[0m\n\u001b[1;32m   2116\u001b[0m             \u001b[0;32mwith\u001b[0m \u001b[0mself\u001b[0m\u001b[0;34m.\u001b[0m\u001b[0mbuiltin_trap\u001b[0m\u001b[0;34m:\u001b[0m\u001b[0;34m\u001b[0m\u001b[0;34m\u001b[0m\u001b[0m\n\u001b[0;32m-> 2117\u001b[0;31m                 \u001b[0mresult\u001b[0m \u001b[0;34m=\u001b[0m \u001b[0mfn\u001b[0m\u001b[0;34m(\u001b[0m\u001b[0mmagic_arg_s\u001b[0m\u001b[0;34m,\u001b[0m \u001b[0mcell\u001b[0m\u001b[0;34m)\u001b[0m\u001b[0;34m\u001b[0m\u001b[0;34m\u001b[0m\u001b[0m\n\u001b[0m\u001b[1;32m   2118\u001b[0m             \u001b[0;32mreturn\u001b[0m \u001b[0mresult\u001b[0m\u001b[0;34m\u001b[0m\u001b[0;34m\u001b[0m\u001b[0m\n\u001b[1;32m   2119\u001b[0m \u001b[0;34m\u001b[0m\u001b[0m\n",
            "\u001b[0;32m<decorator-gen-60>\u001b[0m in \u001b[0;36mtime\u001b[0;34m(self, line, cell, local_ns)\u001b[0m\n",
            "\u001b[0;32m/usr/local/lib/python3.6/dist-packages/IPython/core/magic.py\u001b[0m in \u001b[0;36m<lambda>\u001b[0;34m(f, *a, **k)\u001b[0m\n\u001b[1;32m    186\u001b[0m     \u001b[0;31m# but it's overkill for just that one bit of state.\u001b[0m\u001b[0;34m\u001b[0m\u001b[0;34m\u001b[0m\u001b[0;34m\u001b[0m\u001b[0m\n\u001b[1;32m    187\u001b[0m     \u001b[0;32mdef\u001b[0m \u001b[0mmagic_deco\u001b[0m\u001b[0;34m(\u001b[0m\u001b[0marg\u001b[0m\u001b[0;34m)\u001b[0m\u001b[0;34m:\u001b[0m\u001b[0;34m\u001b[0m\u001b[0;34m\u001b[0m\u001b[0m\n\u001b[0;32m--> 188\u001b[0;31m         \u001b[0mcall\u001b[0m \u001b[0;34m=\u001b[0m \u001b[0;32mlambda\u001b[0m \u001b[0mf\u001b[0m\u001b[0;34m,\u001b[0m \u001b[0;34m*\u001b[0m\u001b[0ma\u001b[0m\u001b[0;34m,\u001b[0m \u001b[0;34m**\u001b[0m\u001b[0mk\u001b[0m\u001b[0;34m:\u001b[0m \u001b[0mf\u001b[0m\u001b[0;34m(\u001b[0m\u001b[0;34m*\u001b[0m\u001b[0ma\u001b[0m\u001b[0;34m,\u001b[0m \u001b[0;34m**\u001b[0m\u001b[0mk\u001b[0m\u001b[0;34m)\u001b[0m\u001b[0;34m\u001b[0m\u001b[0;34m\u001b[0m\u001b[0m\n\u001b[0m\u001b[1;32m    189\u001b[0m \u001b[0;34m\u001b[0m\u001b[0m\n\u001b[1;32m    190\u001b[0m         \u001b[0;32mif\u001b[0m \u001b[0mcallable\u001b[0m\u001b[0;34m(\u001b[0m\u001b[0marg\u001b[0m\u001b[0;34m)\u001b[0m\u001b[0;34m:\u001b[0m\u001b[0;34m\u001b[0m\u001b[0;34m\u001b[0m\u001b[0m\n",
            "\u001b[0;32m/usr/local/lib/python3.6/dist-packages/IPython/core/magics/execution.py\u001b[0m in \u001b[0;36mtime\u001b[0;34m(self, line, cell, local_ns)\u001b[0m\n\u001b[1;32m   1191\u001b[0m         \u001b[0;32melse\u001b[0m\u001b[0;34m:\u001b[0m\u001b[0;34m\u001b[0m\u001b[0;34m\u001b[0m\u001b[0m\n\u001b[1;32m   1192\u001b[0m             \u001b[0mst\u001b[0m \u001b[0;34m=\u001b[0m \u001b[0mclock2\u001b[0m\u001b[0;34m(\u001b[0m\u001b[0;34m)\u001b[0m\u001b[0;34m\u001b[0m\u001b[0;34m\u001b[0m\u001b[0m\n\u001b[0;32m-> 1193\u001b[0;31m             \u001b[0mexec\u001b[0m\u001b[0;34m(\u001b[0m\u001b[0mcode\u001b[0m\u001b[0;34m,\u001b[0m \u001b[0mglob\u001b[0m\u001b[0;34m,\u001b[0m \u001b[0mlocal_ns\u001b[0m\u001b[0;34m)\u001b[0m\u001b[0;34m\u001b[0m\u001b[0;34m\u001b[0m\u001b[0m\n\u001b[0m\u001b[1;32m   1194\u001b[0m             \u001b[0mend\u001b[0m \u001b[0;34m=\u001b[0m \u001b[0mclock2\u001b[0m\u001b[0;34m(\u001b[0m\u001b[0;34m)\u001b[0m\u001b[0;34m\u001b[0m\u001b[0;34m\u001b[0m\u001b[0m\n\u001b[1;32m   1195\u001b[0m             \u001b[0mout\u001b[0m \u001b[0;34m=\u001b[0m \u001b[0;32mNone\u001b[0m\u001b[0;34m\u001b[0m\u001b[0;34m\u001b[0m\u001b[0m\n",
            "\u001b[0;32m<timed exec>\u001b[0m in \u001b[0;36m<module>\u001b[0;34m()\u001b[0m\n",
            "\u001b[0;32m<timed exec>\u001b[0m in \u001b[0;36mcreate_master\u001b[0;34m(series, name_to_refer, name_to_id)\u001b[0m\n",
            "\u001b[0;32m/usr/local/lib/python3.6/dist-packages/cudf/dataframe/dataframe.py\u001b[0m in \u001b[0;36m__getattr__\u001b[0;34m(self, key)\u001b[0m\n\u001b[1;32m    166\u001b[0m             \u001b[0;32mreturn\u001b[0m \u001b[0mself\u001b[0m\u001b[0;34m[\u001b[0m\u001b[0mkey\u001b[0m\u001b[0;34m]\u001b[0m\u001b[0;34m\u001b[0m\u001b[0;34m\u001b[0m\u001b[0m\n\u001b[1;32m    167\u001b[0m \u001b[0;34m\u001b[0m\u001b[0m\n\u001b[0;32m--> 168\u001b[0;31m         \u001b[0;32mraise\u001b[0m \u001b[0mAttributeError\u001b[0m\u001b[0;34m(\u001b[0m\u001b[0;34m\"'DataFrame' object has no attribute %r\"\u001b[0m \u001b[0;34m%\u001b[0m \u001b[0mkey\u001b[0m\u001b[0;34m)\u001b[0m\u001b[0;34m\u001b[0m\u001b[0;34m\u001b[0m\u001b[0m\n\u001b[0m\u001b[1;32m    169\u001b[0m \u001b[0;34m\u001b[0m\u001b[0m\n\u001b[1;32m    170\u001b[0m     \u001b[0;32mdef\u001b[0m \u001b[0m__getitem__\u001b[0m\u001b[0;34m(\u001b[0m\u001b[0mself\u001b[0m\u001b[0;34m,\u001b[0m \u001b[0marg\u001b[0m\u001b[0;34m)\u001b[0m\u001b[0;34m:\u001b[0m\u001b[0;34m\u001b[0m\u001b[0;34m\u001b[0m\u001b[0m\n",
            "\u001b[0;31mAttributeError\u001b[0m: 'DataFrame' object has no attribute 'drop_duplicates'"
          ]
        }
      ]
    },
    {
      "cell_type": "code",
      "metadata": {
        "id": "XulGsI5orK5G",
        "colab_type": "code",
        "colab": {}
      },
      "source": [
        "######The current cudf vaersion doesn't support drop_duplicates.Hence the current code is not executable.The code should run on cudf version>0.5\n",
        "'''Computation of invoice,item level net price\n",
        "Approach-3:Group-Wise\n",
        "apply_grouped:incols i.e. columns required as input,outcols i.e. output generated post processing.\n",
        "Note incols and outcols to be of int/float/datetime arrays.In principle the chunks is now a variable determined on the basis of # of instances for the group.Useful for row-wise operations on groups.\n",
        "'''\n",
        "'''%%time\n",
        "def grouped_summary(StockCode_ID,Price,Quantity,Net_price):\n",
        "    for i in range(cuda.threadIdx.x, len(StockCode_ID), cuda.blockDim.x):\n",
        "        Net_price[i] = Price[i] * Quantity[i]\n",
        "cdf_file2=cdf_file1[['StockCode_ID','Invoice_ID','Quantity','Price']].groupby(['StockCode_ID'], method='cudf').apply_grouped(grouped_summary,incols=['StockCode_ID','Price','Quantity'],outcols={'Net_price': np.float64},tpb=600)\n",
        "cdf_file2=cdf_file2.merge(stock_master,how=\"left\")\n",
        "cdf_file2=cdf_file2.merge(invoice_master,how=\"left\")'''"
      ],
      "execution_count": 0,
      "outputs": []
    },
    {
      "cell_type": "code",
      "metadata": {
        "id": "XJgDRT_JrOu_",
        "colab_type": "code",
        "outputId": "bdbf7dc4-a980-4e48-9f8d-e4e263f3e397",
        "colab": {
          "base_uri": "https://localhost:8080/",
          "height": 493
        }
      },
      "source": [
        "print(\"apply_chunks:cudf\")\n",
        "print(outdf_cudf[['Invoice','StockCode','out']].sort_values(by=[\"StockCode\",\"Invoice\"]))\n",
        "#print(\"apply_grouped:cudf\")\n",
        "#print(cdf_file2[cdf_file2.Invoice==\"489434\"][['Invoice','StockCode','Net_price']].sort_values(by=[\"StockCode\"]))\n",
        "print(\"apply:pandas\")\n",
        "print(outdf_pandas[['Invoice','StockCode','out']].sort_values(by=[\"StockCode\",\"Invoice\"]))"
      ],
      "execution_count": 0,
      "outputs": [
        {
          "output_type": "stream",
          "text": [
            "apply_chunks:cudf\n",
            "    Invoice  StockCode                 out\n",
            "41   489437      10002  10.200000000000001\n",
            "7653   490063      10002  0.8500000000000001\n",
            "7668   490063      10002  0.8500000000000001\n",
            "9382   490136      10002  0.8500000000000001\n",
            "9492   490140      10002  3.4000000000000004\n",
            "9610   490144      10002  10.200000000000001\n",
            "10614   490229      10002  10.200000000000001\n",
            "11192   490295      10002  40.800000000000004\n",
            "12036   490362      10002  0.8500000000000001\n",
            "12808   490458      10002  40.800000000000004\n",
            "[525451 more rows]\n",
            "apply:pandas\n",
            "       Invoice     StockCode    out\n",
            "41      489437         10002  10.20\n",
            "7653    490063         10002   0.85\n",
            "7668    490063         10002   0.85\n",
            "9382    490136         10002   0.85\n",
            "9492    490140         10002   3.40\n",
            "...        ...           ...    ...\n",
            "298839  518487  gift_0001_90   0.00\n",
            "96608   498492             m   2.55\n",
            "96609   498492             m   3.40\n",
            "157226  504396             m   4.00\n",
            "228780  511509             m   2.55\n",
            "\n",
            "[525461 rows x 3 columns]\n"
          ],
          "name": "stdout"
        }
      ]
    },
    {
      "cell_type": "code",
      "metadata": {
        "id": "sZ1igmwAGEEa",
        "colab_type": "code",
        "outputId": "2876b5b9-1a45-4c35-c7d6-1df8e97ea96a",
        "colab": {
          "base_uri": "https://localhost:8080/",
          "height": 204
        }
      },
      "source": [
        "'''Describe doesn't work with cudf if string columns are present in 0.6.1.\n",
        "In older versions describe works on non-string columns'''\n",
        "#print(cdf_file[['Price','Quantity','Net_Price']].describe())\n",
        "print(pd_file.describe())"
      ],
      "execution_count": 0,
      "outputs": [
        {
          "output_type": "stream",
          "text": [
            "            Quantity          Price  ...      Net_Price            out\n",
            "count  525461.000000  525461.000000  ...  525461.000000  525461.000000\n",
            "mean       10.337667       4.688834  ...      18.154506      18.154506\n",
            "std       107.424110     146.126914  ...     160.333083     160.333083\n",
            "min     -9600.000000  -53594.360000  ...  -53594.360000  -53594.360000\n",
            "25%         1.000000       1.250000  ...       3.750000       3.750000\n",
            "50%         3.000000       2.100000  ...       9.950000       9.950000\n",
            "75%        10.000000       4.210000  ...      17.700000      17.700000\n",
            "max     19152.000000   25111.090000  ...   25111.090000   25111.090000\n",
            "\n",
            "[8 rows x 5 columns]\n"
          ],
          "name": "stdout"
        }
      ]
    },
    {
      "cell_type": "code",
      "metadata": {
        "id": "Ddm8s_NFIAPu",
        "colab_type": "code",
        "outputId": "a5d10a1f-2cdb-4052-e5af-f172ab8a5320",
        "colab": {
          "base_uri": "https://localhost:8080/",
          "height": 357
        }
      },
      "source": [
        "'''Group-By on frames'''\n",
        "cdf_group_by=cdf_file.groupby('Country',as_index=False).agg({'Price':['sum','min','max'],'Quantity' : ['sum', 'max','min'],'Net_Price':['sum','max','min']})\n",
        "print(cdf_group_by.head())\n",
        "pd_group_by=pd_file.groupby('Country').agg({'Price' : ['sum', 'max','min'], 'Quantity' : ['sum', 'max','min'],'Net_Price':['sum','max','min']})\n",
        "pd_group_by.unstack(level=0)"
      ],
      "execution_count": 0,
      "outputs": [
        {
          "output_type": "stream",
          "text": [
            "     Country          sum_Price            min_Price           max_Price  sum_Quantity  max_Quantity  min_Quantity ...        min_Net_Price\n",
            "0  Australia  4056.319999999996  0.29000000000000004              662.25         20053           480           -24 ...              -662.25\n",
            "1    Austria  2482.800000000004  0.12000000000000001               130.0          6479           120           -36 ...               -130.0\n",
            "2    Bahrain  352.9199999999998  0.42000000000000004  14.950000000000001          1015            96           -10 ...                -42.5\n",
            "3    Belgium  7226.749999999972                  0.0  1508.6499999999999         11980           120           -30 ...  -1508.6499999999999\n",
            "4    Bermuda               84.7  0.21000000000000002               12.75          2798          1152             2 ...   10.200000000000001\n",
            "[2 more columns]\n"
          ],
          "name": "stdout"
        },
        {
          "output_type": "execute_result",
          "data": {
            "text/plain": [
              "                Country             \n",
              "Price      sum  Australia                4056.32\n",
              "                Austria                  2482.80\n",
              "                Bahrain                   352.92\n",
              "                Belgium                  7226.75\n",
              "                Bermuda                    84.70\n",
              "                                          ...   \n",
              "Net_Price  min  USA                       -25.50\n",
              "                United Arab Emirates     -503.90\n",
              "                United Kingdom         -53594.36\n",
              "                Unspecified             -1189.94\n",
              "                West Indies                 0.65\n",
              "Length: 360, dtype: float64"
            ]
          },
          "metadata": {
            "tags": []
          },
          "execution_count": 29
        }
      ]
    },
    {
      "cell_type": "code",
      "metadata": {
        "id": "h4UoLIPIwAdy",
        "colab_type": "code",
        "outputId": "239d9d91-4abe-434b-ce25-593682e44e1b",
        "colab": {
          "base_uri": "https://localhost:8080/",
          "height": 275
        }
      },
      "source": [
        "'''Categories support is provided from pandas'''\n",
        "pd_file2=pd_file.copy()\n",
        "pd_file2['Country_Cat']=pd_file2.Country.copy()\n",
        "pd_file2['Country_Cat']=pd_file2.Country_Cat.astype(\"category\")\n",
        "#print(pd_file2.columns)\n",
        "\n",
        "cdf_file2=cudf.DataFrame.from_pandas(pd_file2.copy())\n",
        "\n",
        "type(cdf_file2.Country_Cat.cat)\n",
        "print(\"Categorical Labels\")\n",
        "print(cdf_file2.Country_Cat.cat.categories)\n",
        "print(cdf_file2.Country_Cat.cat.codes)"
      ],
      "execution_count": 0,
      "outputs": [
        {
          "output_type": "stream",
          "text": [
            "Categorical Labels\n",
            "('Australia', 'Austria', 'Bahrain', 'Belgium', 'Bermuda', 'Brazil', 'Canada', 'Channel Islands', 'Cyprus', 'Denmark', 'EIRE', 'Finland', 'France', 'Germany', 'Greece', 'Hong Kong', 'Iceland', 'Israel', 'Italy', 'Japan', 'Korea', 'Lebanon', 'Lithuania', 'Malta', 'Netherlands', 'Nigeria', 'Norway', 'Poland', 'Portugal', 'RSA', 'Singapore', 'Spain', 'Sweden', 'Switzerland', 'Thailand', 'USA', 'United Arab Emirates', 'United Kingdom', 'Unspecified', 'West Indies')\n",
            "0    37\n",
            "1    37\n",
            "2    37\n",
            "3    37\n",
            "4    37\n",
            "5    37\n",
            "6    37\n",
            "7    37\n",
            "8    37\n",
            "9    37\n",
            "[525451 more rows]\n",
            "dtype: int8\n"
          ],
          "name": "stdout"
        }
      ]
    },
    {
      "cell_type": "code",
      "metadata": {
        "id": "2AZp5JlXIFd0",
        "colab_type": "code",
        "outputId": "84ba31a6-7a03-416f-c2a4-1042df93dff4",
        "colab": {
          "base_uri": "https://localhost:8080/",
          "height": 34
        }
      },
      "source": [
        "'''CuDF doesn't support categories natively.\n",
        "Categories are inherently converted to string while representing'''\n",
        "pd_file2=pd_file.copy()\n",
        "pd_file2['Country_Cat']=pd_file2.Country\n",
        "pd_file2['Country_Cat']=pd_file2.Country_Cat.astype(\"category\")\n",
        "cdf_file2=cudf.DataFrame.from_pandas(pd_file2.copy())\n",
        "type(cdf_file2.Country_Cat[1])"
      ],
      "execution_count": 0,
      "outputs": [
        {
          "output_type": "execute_result",
          "data": {
            "text/plain": [
              "str"
            ]
          },
          "metadata": {
            "tags": []
          },
          "execution_count": 31
        }
      ]
    },
    {
      "cell_type": "code",
      "metadata": {
        "id": "8xnpiiEaIMQS",
        "colab_type": "code",
        "outputId": "38663816-9c63-44d8-901f-e43a61801b3f",
        "colab": {
          "base_uri": "https://localhost:8080/",
          "height": 51
        }
      },
      "source": [
        "'''String Functionality\n",
        "CuDF supports only nvstrings for string based maipulations.\n",
        "The functionality for strings is quite similar to re based maipulation.\n",
        "Simple regex block\n",
        "Detailed Documentation:https://rapids.readthedocs.io/projects/nvstrings/en/latest/api.html\n",
        "'''\n",
        "#%time string_filter_cudf=cdf_file[cdf_file.Country.str.lower().str.contains('^un',regex=True)]\n",
        "%time string_filter_pandas=pd_file[pd_file.Country.str.lower().str.contains('^un',regex=True)]"
      ],
      "execution_count": 0,
      "outputs": [
        {
          "output_type": "stream",
          "text": [
            "CPU times: user 455 ms, sys: 10.9 ms, total: 466 ms\n",
            "Wall time: 469 ms\n"
          ],
          "name": "stdout"
        }
      ]
    },
    {
      "cell_type": "code",
      "metadata": {
        "id": "vGCDMn_BITj7",
        "colab_type": "code",
        "outputId": "b5141a97-1391-4670-e87e-f872c9cefbce",
        "colab": {
          "base_uri": "https://localhost:8080/",
          "height": 51
        }
      },
      "source": [
        "'''String Functionality\n",
        "CuDF supports only nvstrings for string based maipulations.The functionality for strings is quite similar to re\n",
        "based maipulation.\n",
        "Relatively complex regex block with the same search base\n",
        "Major Performance boost only when the search space/computation space is the bottleneck\n",
        "'''\n",
        "#%time string_filter_cudf1=cdf_file[cdf_file.Country.str.lower().str.contains('^un|and[a-z]+$',regex=True)]\n",
        "%time string_filter_pandas1=pd_file[pd_file.Country.str.lower().str.contains('^un|and[a-z]+$',regex=True)]"
      ],
      "execution_count": 0,
      "outputs": [
        {
          "output_type": "stream",
          "text": [
            "CPU times: user 425 ms, sys: 22 ms, total: 447 ms\n",
            "Wall time: 447 ms\n"
          ],
          "name": "stdout"
        }
      ]
    },
    {
      "cell_type": "code",
      "metadata": {
        "id": "uTWY9JKfiqUI",
        "colab_type": "code",
        "colab": {}
      },
      "source": [
        "%time cdf_file['pattern_extract']=cdf_file.Description.str.extract(\"(\\\\s+\\\\d{2,})\")\n",
        "%time pd_file['pattern_extract']=pd_file.Description.str.extract(\"(\\\\s+\\\\d{2,})\")"
      ],
      "execution_count": 0,
      "outputs": []
    }
  ]
}
