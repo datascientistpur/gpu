{
 "cells": [
  {
   "cell_type": "code",
   "execution_count": 1,
   "metadata": {},
   "outputs": [],
   "source": [
    "######Libraries\n",
    "import cudf\n",
    "import pandas as pd\n",
    "import numpy as np\n",
    "from numba import cuda\n",
    "import torch\n",
    "import os"
   ]
  },
  {
   "cell_type": "code",
   "execution_count": 2,
   "metadata": {},
   "outputs": [],
   "source": [
    "#####Setting GPU\n",
    "os.environ[\"CUDA_DEVICE_ORDER\"] = \"PCI_BUS_ID\" \n",
    "os.environ[\"CUDA_VISIBLE_DEVICES\"] = \"1\""
   ]
  },
  {
   "cell_type": "code",
   "execution_count": 3,
   "metadata": {},
   "outputs": [
    {
     "name": "stdout",
     "output_type": "stream",
     "text": [
      "pandas version: 0.25.3\n",
      "cudf version: 0.13.0+0.ga2804c3.dirty\n",
      "numpy version: 1.18.1\n",
      "cuda version: 9.0.176\n"
     ]
    }
   ],
   "source": [
    "'''Version(s)'''\n",
    "print(\"pandas version:\",pd.__version__)\n",
    "print(\"cudf version:\",cudf.__version__)\n",
    "print(\"numpy version:\",np.__version__)\n",
    "print(\"cuda version:\",torch.version.cuda)"
   ]
  },
  {
   "cell_type": "code",
   "execution_count": 4,
   "metadata": {},
   "outputs": [
    {
     "name": "stderr",
     "output_type": "stream",
     "text": [
      "/home/shravan/anaconda3/lib/python3.7/site-packages/fsspec/implementations/local.py:33: FutureWarning: The default value of auto_mkdir=True has been deprecated and will be changed to auto_mkdir=False by default in a future release.\n",
      "  FutureWarning,\n"
     ]
    },
    {
     "name": "stdout",
     "output_type": "stream",
     "text": [
      "CPU times: user 565 ms, sys: 379 ms, total: 944 ms\n",
      "Wall time: 978 ms\n",
      "CPU times: user 345 ms, sys: 36.3 ms, total: 382 ms\n",
      "Wall time: 380 ms\n"
     ]
    }
   ],
   "source": [
    "'''Read Files\n",
    "cdf_file is the cudf file i.e. on GPU\n",
    "pd_file is the pandas variant i.e. on CPU\n",
    "Note cudf doesn't support read/write from/to excel,pickle files'''\n",
    "import io\n",
    "%time cdf_file=cudf.read_csv(\"online_retail.csv\")\n",
    "%time pd_file=pd.read_csv(\"online_retail.csv\")"
   ]
  },
  {
   "cell_type": "code",
   "execution_count": 5,
   "metadata": {},
   "outputs": [
    {
     "name": "stdout",
     "output_type": "stream",
     "text": [
      "Memory consumed by the CuDF: 0.033826688 GB\n",
      "Memory consumed by the pandas frame: 0.033629632 GB\n"
     ]
    }
   ],
   "source": [
    "'''Memory consumption for both cudf and pandas'''\n",
    "print(\"Memory consumed by the CuDF:\",(sum(cdf_file.memory_usage()))/1e9,\"GB\")\n",
    "print(\"Memory consumed by the pandas frame:\",(sum(pd_file.memory_usage()))/1e9,\"GB\")"
   ]
  },
  {
   "cell_type": "code",
   "execution_count": 6,
   "metadata": {},
   "outputs": [],
   "source": [
    "'''Sub-setting Data-1\n",
    "Using loc'''\n",
    "cdf_file_subset=cdf_file.loc[1:1000]\n",
    "pd_file_subset=pd_file.loc[1:1000]"
   ]
  },
  {
   "cell_type": "code",
   "execution_count": 7,
   "metadata": {},
   "outputs": [],
   "source": [
    "'''Sub-setting Data-2\n",
    "Using iloc'''\n",
    "cdf_file_subset=cdf_file.iloc[1:5]\n",
    "pd_file_subset=pd_file.iloc[1:5]"
   ]
  },
  {
   "cell_type": "code",
   "execution_count": 8,
   "metadata": {},
   "outputs": [],
   "source": [
    "####Note the cudf querying runs on latest cudf i.e. 0.6.1.\n",
    "cdf_file_query=cdf_file[cdf_file.Price>10]\n",
    "pd_file_query=pd_file[pd_file.Price>10]"
   ]
  },
  {
   "cell_type": "code",
   "execution_count": 9,
   "metadata": {},
   "outputs": [
    {
     "name": "stdout",
     "output_type": "stream",
     "text": [
      "CPU times: user 29.2 ms, sys: 335 µs, total: 29.5 ms\n",
      "Wall time: 29 ms\n",
      "CPU times: user 31.1 ms, sys: 0 ns, total: 31.1 ms\n",
      "Wall time: 30.7 ms\n",
      "CPU times: user 18.4 ms, sys: 558 µs, total: 19 ms\n",
      "Wall time: 18.7 ms\n",
      "CPU times: user 15.2 ms, sys: 0 ns, total: 15.2 ms\n",
      "Wall time: 15 ms\n"
     ]
    }
   ],
   "source": [
    "'''Frequency counts\n",
    "1. Using value_counts\n",
    "2. Using group by as a substitute for value_count method\n",
    "\n",
    "CuDF doesn't support value_counts on a string column prior to 0.8.\n",
    "Similarly other standard methods available in pandas for string data-types are unsupported unless we make us of nvstrings package\n",
    "CuDF Documentation:https://rapidsai.github.io/projects/cudf/en/latest/api.html\n",
    "'''\n",
    "%time pd_count = pd_file['Country'].value_counts()\n",
    "%time pd_count1 = pd_file.groupby(['Country'])['StockCode'].count() \n",
    "%time cudf_count = cdf_file['Country'].value_counts()\n",
    "####Note the cudf querying runs on latest cudf i.e. 0.6.1.\n",
    "%time cudf_count = cdf_file.groupby(['Country'])['StockCode'].count()"
   ]
  },
  {
   "cell_type": "code",
   "execution_count": 10,
   "metadata": {},
   "outputs": [],
   "source": [
    "'''Sorting data'''\n",
    "cdf_file=cdf_file.sort_values(by=['Invoice','StockCode'],ascending=True)\n",
    "pd_file=pd_file.sort_values(by=['Invoice','StockCode'],ascending=True)"
   ]
  },
  {
   "cell_type": "code",
   "execution_count": 11,
   "metadata": {},
   "outputs": [],
   "source": [
    "'''Extending frames'''\n",
    "cdf_file1=cudf.concat([cdf_file,cdf_file],ignore_index=True)\n",
    "pd_file1=pd.concat([pd_file,pd_file],ignore_index=True)"
   ]
  },
  {
   "cell_type": "code",
   "execution_count": 12,
   "metadata": {},
   "outputs": [],
   "source": [
    "'''Merging frames'''\n",
    "########Note to join frames both frames need to have the same reference and id names prior to 0.6\n",
    "cdf_file1=cdf_file.merge(cdf_file[['Invoice','StockCode','Quantity']].rename(columns={'Quantity':'Qty_y','Invoice':'inv','StockCode':\"stk\"}),left_on=['Invoice','StockCode'],right_on=['inv','stk'],how=\"inner\")\n",
    "#cdf_file1=cdf_file.merge(cdf_file[['Invoice','StockCode','Quantity']].rename(columns={'Quantity':'Qty_y'}),on=['Invoice','StockCode'],how=\"inner\")\n",
    "pd_file1=pd_file.merge(pd_file[['Invoice','StockCode','Quantity']].rename(columns={'Quantity':'Qty_y','Invoice':'inv','StockCode':\"stk\"}),left_on=['Invoice','StockCode'],right_on=['inv','stk'],how=\"inner\")"
   ]
  },
  {
   "cell_type": "code",
   "execution_count": 13,
   "metadata": {},
   "outputs": [
    {
     "name": "stdout",
     "output_type": "stream",
     "text": [
      "CPU times: user 177 ms, sys: 355 µs, total: 177 ms\n",
      "Wall time: 179 ms\n",
      "CPU times: user 6.76 ms, sys: 5.36 ms, total: 12.1 ms\n",
      "Wall time: 6.73 ms\n"
     ]
    }
   ],
   "source": [
    "'''Computation of invoice,item level net price\n",
    "Approach-1:Vectorized approach\n",
    "'''\n",
    "%time cdf_file['Net_Price']=cdf_file.Quantity*cdf_file.Price\n",
    "%time pd_file['Net_Price']=pd_file.Quantity*pd_file.Price"
   ]
  },
  {
   "cell_type": "code",
   "execution_count": 14,
   "metadata": {},
   "outputs": [
    {
     "name": "stdout",
     "output_type": "stream",
     "text": [
      "CPU times: user 203 ms, sys: 3.36 ms, total: 207 ms\n",
      "Wall time: 209 ms\n",
      "CPU times: user 6.45 s, sys: 37.1 ms, total: 6.48 s\n",
      "Wall time: 6.53 s\n"
     ]
    }
   ],
   "source": [
    "'''Computation of invoice,item level net price\n",
    "Approach-2:Row-wise\n",
    "apply chunk:incols i.e. columns required as input,outcols i.e. output generated post processing.\n",
    "Note incols and outcols to be of int/float/datetime arrays.chunks is the number of rows to be allotted to each block and tpb is threads per block.\n",
    "CUDA works on the principle of threads and not cores.The looping construct is automatically unrolled to the parallel \n",
    "variant by the compiler.\n",
    "'''\n",
    "def set_net_item_price_cudf(Quantity, Price, out):\n",
    "    for i, (x, y) in enumerate(zip(Quantity,Price)):\n",
    "        out[i] = x * y\n",
    "def set_net_item_price_pd(Quantity, Price):\n",
    "    return(Quantity*Price)\n",
    "%time outdf_cudf=cdf_file.apply_chunks(set_net_item_price_cudf,incols=['Quantity', 'Price'],outcols=dict(out=np.float64),kwargs=dict(),chunks=16,tpb=10)\n",
    "outdf_pandas=pd_file\n",
    "%time outdf_pandas['out']=outdf_pandas.apply(lambda x: set_net_item_price_pd(Quantity=x['Quantity'],Price=x['Price']),axis=1)"
   ]
  },
  {
   "cell_type": "code",
   "execution_count": 15,
   "metadata": {},
   "outputs": [
    {
     "name": "stdout",
     "output_type": "stream",
     "text": [
      "CPU times: user 19.7 ms, sys: 3.99 ms, total: 23.6 ms\n",
      "Wall time: 22.9 ms\n"
     ]
    }
   ],
   "source": [
    "%%time\n",
    "######The current cudf vaersion doesn't support drop_duplicates.Hence the current code is not executable.The code should run on cudf version>0.5\n",
    "def create_master(series,name_to_refer,name_to_id):\n",
    "    master=cudf.DataFrame()\n",
    "    master[name_to_refer]=series\n",
    "    master=master.drop_duplicates()\n",
    "    master[name_to_id]=np.arange(0,(len(master)))\n",
    "    return(master)\n",
    "invoice_master=create_master(cdf_file.Invoice,name_to_refer=\"Invoice\",name_to_id=\"Invoice_ID\")\n",
    "stock_master=create_master(cdf_file.StockCode,name_to_refer=\"StockCode\",name_to_id=\"StockCode_ID\")\n",
    "cdf_file1=cdf_file[['Invoice','StockCode','Quantity','Price']]\n",
    "cdf_file1=cdf_file1.merge(invoice_master,how=\"left\")\n",
    "cdf_file1=cdf_file1.merge(stock_master,how=\"left\")"
   ]
  },
  {
   "cell_type": "code",
   "execution_count": 16,
   "metadata": {},
   "outputs": [
    {
     "name": "stdout",
     "output_type": "stream",
     "text": [
      "CPU times: user 237 ms, sys: 8.09 ms, total: 245 ms\n",
      "Wall time: 247 ms\n"
     ]
    }
   ],
   "source": [
    "%%time\n",
    "'''Computation of invoice,item level net price\n",
    "Approach-3:Group-Wise\n",
    "apply_grouped:incols i.e. columns required as input,outcols i.e. output generated post processing.\n",
    "Note incols and outcols to be of int/float/datetime arrays.In principle the chunks is now a variable determined on the basis of # of instances for the group.Useful for row-wise operations on groups.\n",
    "'''\n",
    "def grouped_summary(StockCode_ID,Price,Quantity,Net_price):\n",
    "    for i in range(cuda.threadIdx.x, len(StockCode_ID), cuda.blockDim.x):\n",
    "        Net_price[i] = Price[i] * Quantity[i]\n",
    "cdf_file2=cdf_file1[['StockCode_ID','Invoice_ID','Quantity','Price']].groupby(['StockCode_ID'], method='cudf').apply_grouped(grouped_summary,incols=['StockCode_ID','Price','Quantity'],outcols={'Net_price': np.float64},tpb=600)\n",
    "cdf_file2=cdf_file2.merge(stock_master,how=\"left\")\n",
    "cdf_file2=cdf_file2.merge(invoice_master,how=\"left\")"
   ]
  },
  {
   "cell_type": "code",
   "execution_count": 17,
   "metadata": {},
   "outputs": [
    {
     "name": "stdout",
     "output_type": "stream",
     "text": [
      "apply_chunks:cudf\n",
      "  Invoice StockCode    out\n",
      "4  489434     21232   30.0\n",
      "7  489434     21523   59.5\n",
      "6  489434     21871   30.0\n",
      "3  489434     22041  100.8\n",
      "5  489434     22064   39.6\n",
      "1  489434    79323P   81.0\n",
      "2  489434    79323W   81.0\n",
      "0  489434     85048   83.4\n",
      "apply_grouped:cudf\n",
      "       Invoice StockCode  Net_price\n",
      "91060   489434     21232       30.0\n",
      "134364  489434     21523       59.5\n",
      "190931  489434     21871       30.0\n",
      "197024  489434     22041      100.8\n",
      "209554  489434     22064       39.6\n",
      "412114  489434    79323P       81.0\n",
      "435094  489434    79323W       81.0\n",
      "466269  489434     85048       83.4\n",
      "apply:pandas\n",
      "  Invoice StockCode    out\n",
      "4  489434     21232   30.0\n",
      "7  489434     21523   59.5\n",
      "6  489434     21871   30.0\n",
      "3  489434     22041  100.8\n",
      "5  489434     22064   39.6\n",
      "1  489434    79323P   81.0\n",
      "2  489434    79323W   81.0\n",
      "0  489434     85048   83.4\n"
     ]
    }
   ],
   "source": [
    "print(\"apply_chunks:cudf\")\n",
    "print(outdf_cudf[outdf_cudf.Invoice==\"489434\"][['Invoice','StockCode','out']].sort_values(by=[\"StockCode\",\"Invoice\"]))\n",
    "print(\"apply_grouped:cudf\")\n",
    "print(cdf_file2[cdf_file2.Invoice==\"489434\"][['Invoice','StockCode','Net_price']].sort_values(by=[\"StockCode\"]))\n",
    "print(\"apply:pandas\")\n",
    "print(outdf_pandas[outdf_pandas.Invoice==\"489434\"][['Invoice','StockCode','out']].sort_values(by=[\"StockCode\",\"Invoice\"]))"
   ]
  },
  {
   "cell_type": "code",
   "execution_count": 18,
   "metadata": {},
   "outputs": [
    {
     "name": "stdout",
     "output_type": "stream",
     "text": [
      "cudf_describe\n",
      "            Quantity          Price    Customer ID      Net_Price\n",
      "count  525461.000000  525461.000000  417534.000000  525461.000000\n",
      "mean       10.337667       4.688834   15360.645478      18.154506\n",
      "std       107.424110     146.126914    1680.811316     160.333083\n",
      "min     -9600.000000  -53594.360000   12346.000000  -53594.360000\n",
      "25%         1.000000       1.250000   13983.000000       3.750000\n",
      "50%         3.000000       2.100000   15311.000000       9.950000\n",
      "75%        10.000000       4.210000   16799.000000      17.700000\n",
      "max     19152.000000   25111.090000   18287.000000   25111.090000\n",
      "\n",
      "\n",
      "pandas describe\n",
      "            Quantity          Price    Customer ID      Net_Price  \\\n",
      "count  525461.000000  525461.000000  417534.000000  525461.000000   \n",
      "mean       10.337667       4.688834   15360.645478      18.154506   \n",
      "std       107.424110     146.126914    1680.811316     160.333083   \n",
      "min     -9600.000000  -53594.360000   12346.000000  -53594.360000   \n",
      "25%         1.000000       1.250000   13983.000000       3.750000   \n",
      "50%         3.000000       2.100000   15311.000000       9.950000   \n",
      "75%        10.000000       4.210000   16799.000000      17.700000   \n",
      "max     19152.000000   25111.090000   18287.000000   25111.090000   \n",
      "\n",
      "                 out  \n",
      "count  525461.000000  \n",
      "mean       18.154506  \n",
      "std       160.333083  \n",
      "min    -53594.360000  \n",
      "25%         3.750000  \n",
      "50%         9.950000  \n",
      "75%        17.700000  \n",
      "max     25111.090000  \n"
     ]
    }
   ],
   "source": [
    "'''Describe doesn't work with cudf if string columns are present in versions prior to 0.6.1.\n",
    "'''\n",
    "\n",
    "print(\"cudf_describe\")\n",
    "print(cdf_file.describe())\n",
    "print(\"\\n\\npandas describe\")\n",
    "print(pd_file.describe())"
   ]
  },
  {
   "cell_type": "code",
   "execution_count": 19,
   "metadata": {},
   "outputs": [
    {
     "name": "stdout",
     "output_type": "stream",
     "text": [
      "     Country    Price                Quantity           Net_Price           \\\n",
      "                  sum   min      max      sum   max min       sum      max   \n",
      "0  Australia  4056.32  0.29   662.25    20053   480 -24  30051.80   876.00   \n",
      "1    Austria  2482.80  0.12   130.00     6479   120 -36  13023.28   297.00   \n",
      "2    Bahrain   352.92  0.42    14.95     1015    96 -10   2313.15   187.20   \n",
      "3    Belgium  7226.75  0.00  1508.65    11980   120 -30  22663.53  1508.65   \n",
      "4    Bermuda    84.70  0.21    12.75     2798  1152   2   1253.14   241.92   \n",
      "\n",
      "            \n",
      "       min  \n",
      "0  -662.25  \n",
      "1  -130.00  \n",
      "2   -42.50  \n",
      "3 -1508.65  \n",
      "4    10.20  \n"
     ]
    }
   ],
   "source": [
    "'''Group-By on frames'''\n",
    "cdf_group_by=cdf_file.groupby('Country',as_index=False).agg({'Price':['sum','min','max'],'Quantity' : ['sum', 'max','min'],'Net_Price':['sum','max','min']})\n",
    "print(cdf_group_by.head())\n",
    "pd_group_by=pd_file.groupby('Country').agg({'Price' : ['sum', 'max','min'], 'Quantity' : ['sum', 'max','min'],'Net_Price':['sum','max','min']})"
   ]
  },
  {
   "cell_type": "code",
   "execution_count": 20,
   "metadata": {},
   "outputs": [
    {
     "name": "stdout",
     "output_type": "stream",
     "text": [
      "Categorical Labels\n",
      "StringIndex(['Australia' 'Austria' 'Bahrain' 'Belgium' 'Bermuda' 'Brazil' 'Canada'\n",
      " 'Channel Islands' 'Cyprus' 'Denmark' 'EIRE' 'Finland' 'France' 'Germany'\n",
      " 'Greece' 'Hong Kong' 'Iceland' 'Israel' 'Italy' 'Japan' 'Korea' 'Lebanon'\n",
      " 'Lithuania' 'Malta' 'Netherlands' 'Nigeria' 'Norway' 'Poland' 'Portugal'\n",
      " 'RSA' 'Singapore' 'Spain' 'Sweden' 'Switzerland' 'Thailand' 'USA'\n",
      " 'United Arab Emirates' 'United Kingdom' 'Unspecified' 'West Indies'], dtype='object')\n",
      "0         37\n",
      "1         37\n",
      "2         37\n",
      "3         37\n",
      "4         37\n",
      "          ..\n",
      "525456    13\n",
      "525457    37\n",
      "525458    37\n",
      "525459    37\n",
      "525460    37\n",
      "Length: 525461, dtype: int8\n"
     ]
    }
   ],
   "source": [
    "'''Categories support is provided from pandas'''\n",
    "pd_file2=pd_file.copy()\n",
    "pd_file2['Country_Cat']=pd_file2.Country.copy()\n",
    "pd_file2['Country_Cat']=pd_file2.Country_Cat.astype(\"category\")\n",
    "#print(pd_file2.columns)\n",
    "\n",
    "cdf_file2=cudf.DataFrame.from_pandas(pd_file2.copy())\n",
    "\n",
    "type(cdf_file2.Country_Cat.cat)\n",
    "print(\"Categorical Labels\")\n",
    "print(cdf_file2.Country_Cat.cat.categories)\n",
    "print(cdf_file2.Country_Cat.cat.codes)"
   ]
  },
  {
   "cell_type": "code",
   "execution_count": 21,
   "metadata": {},
   "outputs": [
    {
     "name": "stdout",
     "output_type": "stream",
     "text": [
      "CPU times: user 7.72 ms, sys: 0 ns, total: 7.72 ms\n",
      "Wall time: 7.06 ms\n",
      "CPU times: user 317 ms, sys: 4.05 ms, total: 321 ms\n",
      "Wall time: 320 ms\n"
     ]
    }
   ],
   "source": [
    "'''String Functionality\n",
    "CuDF supports only nvstrings for string based maipulations.\n",
    "The functionality for strings is quite similar to re based maipulation.\n",
    "Simple regex block\n",
    "Detailed Documentation:https://rapids.readthedocs.io/projects/nvstrings/en/latest/api.html\n",
    "'''\n",
    "%time string_filter_cudf=cdf_file[cdf_file.Country.str.lower().str.contains('^un',regex=True)]\n",
    "%time string_filter_pandas=pd_file[pd_file.Country.str.lower().str.contains('^un',regex=True)]"
   ]
  },
  {
   "cell_type": "code",
   "execution_count": 22,
   "metadata": {},
   "outputs": [
    {
     "data": {
      "text/plain": [
       "0"
      ]
     },
     "execution_count": 22,
     "metadata": {},
     "output_type": "execute_result"
    }
   ],
   "source": [
    "from IPython import get_ipython\n",
    "get_ipython().magic('reset -sf') \n",
    "import gc\n",
    "gc.collect()"
   ]
  }
 ],
 "metadata": {
  "kernelspec": {
   "display_name": "Python 3",
   "language": "python",
   "name": "python3"
  },
  "language_info": {
   "codemirror_mode": {
    "name": "ipython",
    "version": 3
   },
   "file_extension": ".py",
   "mimetype": "text/x-python",
   "name": "python",
   "nbconvert_exporter": "python",
   "pygments_lexer": "ipython3",
   "version": "3.7.6"
  }
 },
 "nbformat": 4,
 "nbformat_minor": 4
}
