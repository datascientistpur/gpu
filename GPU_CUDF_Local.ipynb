{
 "cells": [
  {
   "cell_type": "code",
   "execution_count": 1,
   "metadata": {},
   "outputs": [],
   "source": [
    "######Libraries\n",
    "import cudf\n",
    "import pandas as pd\n",
    "import os\n",
    "import numpy as np\n",
    "from numba import cuda\n",
    "import torch\n",
    "import os"
   ]
  },
  {
   "cell_type": "code",
   "execution_count": 2,
   "metadata": {},
   "outputs": [],
   "source": [
    "#######Select GPU\n",
    "os.environ[\"CUDA_DEVICE_ORDER\"] = \"PCI_BUS_ID\"\n",
    "os.environ[\"CUDA_VISIBLE_DEVICES\"] = \"1\""
   ]
  },
  {
   "cell_type": "code",
   "execution_count": 3,
   "metadata": {},
   "outputs": [
    {
     "name": "stdout",
     "output_type": "stream",
     "text": [
      "pandas version: 1.0.1\n",
      "cudf version: 0.8.0+0.g8fa7bd3.dirty\n",
      "numpy version: 1.18.1\n",
      "cuda version: 10.1\n"
     ]
    }
   ],
   "source": [
    "print(\"pandas version:\",pd.__version__)\n",
    "print(\"cudf version:\",cudf.__version__)\n",
    "print(\"numpy version:\",np.__version__)\n",
    "print(\"cuda version:\",torch.version.cuda)"
   ]
  },
  {
   "cell_type": "code",
   "execution_count": 4,
   "metadata": {},
   "outputs": [],
   "source": [
    "######Get handle of the current CUDA context to be able to compute the memory level stats\n",
    "context=cuda.current_context()\n",
    "cudf_mem_space=context.get_memory_info()"
   ]
  },
  {
   "cell_type": "code",
   "execution_count": 5,
   "metadata": {},
   "outputs": [],
   "source": [
    "#'''Data-set is the spends at an online retail store.It has 8 columns the metadata is as follows\n",
    "#1. Invoice         invoice number          string\n",
    "#2. StockCode       Stock  code             string\n",
    "#3. Description     item name               string\n",
    "#4. Quantity        Quantity bought         int\n",
    "#5. InvoiceDate     Date of the invoce      date-time(yyyy-mm-dd hh:mm:ss)\n",
    "#6. Price           Unit Price              float\n",
    "#7. Customer ID     ID of the customer      string\n",
    "#8. Country         origin of the customer  string'''"
   ]
  },
  {
   "cell_type": "code",
   "execution_count": 6,
   "metadata": {},
   "outputs": [
    {
     "name": "stdout",
     "output_type": "stream",
     "text": [
      "CPU times: user 162 ms, sys: 47.5 ms, total: 210 ms\n",
      "Wall time: 211 ms\n",
      "CPU times: user 273 ms, sys: 15.9 ms, total: 289 ms\n",
      "Wall time: 288 ms\n"
     ]
    }
   ],
   "source": [
    "'''Read Files\n",
    "cdf_file is the cudf file i.e. on GPU\n",
    "pd_file is the pandas variant i.e. on CPU\n",
    "Note cudf doesn't support read/write from/to excel,pickle files'''\n",
    "%time cdf_file=cudf.read_csv(\"online_retail.csv\")\n",
    "%time pd_file=pd.read_csv(\"online_retail.csv\")"
   ]
  },
  {
   "cell_type": "code",
   "execution_count": 7,
   "metadata": {},
   "outputs": [
    {
     "name": "stdout",
     "output_type": "stream",
     "text": [
      "Memory consumed by the CuDF: 0.216006656 GB\n",
      "Memory consumed by the pandas frame: 0.033629632 GB\n"
     ]
    }
   ],
   "source": [
    "'''Memory consumption for both cudf and pandas'''\n",
    "#context=cuda.current_context()\n",
    "cudf_mem_space_post_load=context.get_memory_info()\n",
    "print(\"Memory consumed by the CuDF:\",(cudf_mem_space.free-cudf_mem_space_post_load.free)/1e9,\"GB\")\n",
    "print(\"Memory consumed by the pandas frame:\",(sum(pd_file.memory_usage()))/1e9,\"GB\")"
   ]
  },
  {
   "cell_type": "code",
   "execution_count": 8,
   "metadata": {},
   "outputs": [],
   "source": [
    "'''Sub-setting Data-1\n",
    "Using loc'''\n",
    "cdf_file_subset=cdf_file.loc[1:1000]\n",
    "pd_file_subset=pd_file.loc[1:1000]"
   ]
  },
  {
   "cell_type": "code",
   "execution_count": 9,
   "metadata": {},
   "outputs": [],
   "source": [
    "'''Sub-setting Data-2\n",
    "Using iloc'''\n",
    "cdf_file_subset=cdf_file.iloc[1:5]\n",
    "pd_file_subset=pd_file.iloc[1:5]"
   ]
  },
  {
   "cell_type": "code",
   "execution_count": 28,
   "metadata": {},
   "outputs": [
    {
     "name": "stdout",
     "output_type": "stream",
     "text": [
      "(26673, 9)\n",
      "(26673, 9)\n"
     ]
    }
   ],
   "source": [
    "'''Querying data'''\n",
    "cdf_file_query=cdf_file[cdf_file.Price>10]\n",
    "print(cdf_file_query.shape)\n",
    "pd_file_query=pd_file[pd_file.Price>10]\n",
    "print(pd_file_query.shape)"
   ]
  },
  {
   "cell_type": "code",
   "execution_count": 11,
   "metadata": {},
   "outputs": [
    {
     "name": "stdout",
     "output_type": "stream",
     "text": [
      "CPU times: user 32.2 ms, sys: 42 µs, total: 32.2 ms\n",
      "Wall time: 31.7 ms\n",
      "CPU times: user 30.9 ms, sys: 0 ns, total: 30.9 ms\n",
      "Wall time: 30.4 ms\n",
      "CPU times: user 14.9 ms, sys: 0 ns, total: 14.9 ms\n",
      "Wall time: 14.8 ms\n"
     ]
    }
   ],
   "source": [
    "'''Frequency counts\n",
    "1. Using value_counts\n",
    "2. Using group by as a substitute for value_count method\n",
    "\n",
    "CuDF doesn't support value_counts on a string column.\n",
    "Similarly other standard methods available in pandas for string data-types are unsupported unless we make us of nvstrings package\n",
    "CuDF Documentation:https://rapidsai.github.io/projects/cudf/en/latest/api.html\n",
    "'''\n",
    "%time pd_count = pd_file['Country'].value_counts()\n",
    "%time pd_count1 = pd_file.groupby(['Country'])['StockCode'].count() \n",
    "#%time cudf_count = cdf_file['Country'].value_counts()\n",
    "%time cudf_count = cdf_file.groupby(['Country'])['StockCode'].count() "
   ]
  },
  {
   "cell_type": "code",
   "execution_count": 12,
   "metadata": {},
   "outputs": [],
   "source": [
    "del pd_count,pd_count1"
   ]
  },
  {
   "cell_type": "code",
   "execution_count": 13,
   "metadata": {},
   "outputs": [],
   "source": [
    "'''Sorting data'''\n",
    "cdf_file=cdf_file.sort_values(by=['Invoice','StockCode'],ascending=True)\n",
    "pd_file=pd_file.sort_values(by=['Invoice','StockCode'],ascending=True)"
   ]
  },
  {
   "cell_type": "code",
   "execution_count": 14,
   "metadata": {},
   "outputs": [],
   "source": [
    "'''Extending frames'''\n",
    "cdf_file1=cudf.concat([cdf_file,cdf_file],ignore_index=True)\n",
    "pd_file1=pd.concat([pd_file,pd_file],ignore_index=True)"
   ]
  },
  {
   "cell_type": "code",
   "execution_count": 15,
   "metadata": {},
   "outputs": [],
   "source": [
    "'''Merging frames'''\n",
    "cdf_file1=cdf_file.merge(cdf_file[['Invoice','StockCode','Quantity']].rename(columns={'Quantity':'Qty_y','Invoice':'inv','StockCode':\"stk\"}),left_on=['Invoice','StockCode'],right_on=['inv','stk'],how=\"inner\")\n",
    "pd_file1=pd_file.merge(pd_file[['Invoice','StockCode','Quantity']].rename(columns={'Quantity':'Qty_y','Invoice':'inv','StockCode':\"stk\"}),left_on=['Invoice','StockCode'],right_on=['inv','stk'],how=\"inner\")"
   ]
  },
  {
   "cell_type": "code",
   "execution_count": 16,
   "metadata": {},
   "outputs": [],
   "source": [
    "del cdf_file1,pd_file1"
   ]
  },
  {
   "cell_type": "code",
   "execution_count": 17,
   "metadata": {},
   "outputs": [
    {
     "name": "stdout",
     "output_type": "stream",
     "text": [
      "CPU times: user 74.8 ms, sys: 0 ns, total: 74.8 ms\n",
      "Wall time: 74.6 ms\n",
      "CPU times: user 13.6 ms, sys: 1.03 ms, total: 14.6 ms\n",
      "Wall time: 11.2 ms\n"
     ]
    }
   ],
   "source": [
    "'''Computation of invoice,item level net price\n",
    "Approach-1:Vectorized approach\n",
    "'''\n",
    "%time cdf_file['Net_Price']=cdf_file.Quantity*cdf_file.Price\n",
    "%time pd_file['Net_Price']=pd_file.Quantity*pd_file.Price"
   ]
  },
  {
   "cell_type": "code",
   "execution_count": 18,
   "metadata": {},
   "outputs": [
    {
     "name": "stdout",
     "output_type": "stream",
     "text": [
      "CPU times: user 150 ms, sys: 76 µs, total: 150 ms\n",
      "Wall time: 152 ms\n",
      "CPU times: user 8.06 s, sys: 40.1 ms, total: 8.1 s\n",
      "Wall time: 8.1 s\n"
     ]
    }
   ],
   "source": [
    "'''Computation of invoice,item level net price\n",
    "Approach-2:Row-wise\n",
    "apply chunk:incols i.e. columns required as input,outcols i.e. output generated post processing.\n",
    "Note incols and outcols to be of int/float/datetime arrays.chunks is the number of rows to be allotted to each block and tpb is threads per block.\n",
    "CUDA works on the principle of threads and not cores.The looping construct is automatically unrolled to the parallel \n",
    "variant by the compiler.\n",
    "'''\n",
    "def set_net_item_price_cudf(Quantity, Price, out):\n",
    "    for i, (x, y) in enumerate(zip(Quantity,Price)):\n",
    "        out[i] = x * y\n",
    "def set_net_item_price_pd(Quantity, Price):\n",
    "    return(Quantity*Price)\n",
    "%time outdf_cudf=cdf_file.apply_chunks(set_net_item_price_cudf,incols=['Quantity', 'Price'],outcols=dict(out=np.float64),kwargs=dict(),chunks=16,tpb=10)\n",
    "%time outdf_pandas=pd_file.apply(lambda x: set_net_item_price_pd(Quantity=x['Quantity'],Price=x['Price']),axis=1)"
   ]
  },
  {
   "cell_type": "code",
   "execution_count": 19,
   "metadata": {},
   "outputs": [],
   "source": [
    "del outdf_cudf,outdf_pandas"
   ]
  },
  {
   "cell_type": "code",
   "execution_count": 20,
   "metadata": {},
   "outputs": [
    {
     "name": "stdout",
     "output_type": "stream",
     "text": [
      "   stats       Price   Quantity   Net_Price\n",
      "0  count    525461.0   525461.0    525461.0\n",
      "1   mean    4.688834  10.337667   18.154506\n",
      "2    std  146.126914  107.42411  160.333083\n",
      "3    min   -53594.36    -9600.0   -53594.36\n",
      "4    25%        1.25        1.0        3.75\n",
      "5    50%         2.1        3.0        9.95\n",
      "6    75%        4.21       10.0        17.7\n",
      "7    max    25111.09    19152.0    25111.09\n",
      "            Quantity          Price    Customer ID      Net_Price\n",
      "count  525461.000000  525461.000000  417534.000000  525461.000000\n",
      "mean       10.337667       4.688834   15360.645478      18.154506\n",
      "std       107.424110     146.126914    1680.811316     160.333083\n",
      "min     -9600.000000  -53594.360000   12346.000000  -53594.360000\n",
      "25%         1.000000       1.250000   13983.000000       3.750000\n",
      "50%         3.000000       2.100000   15311.000000       9.950000\n",
      "75%        10.000000       4.210000   16799.000000      17.700000\n",
      "max     19152.000000   25111.090000   18287.000000   25111.090000\n"
     ]
    }
   ],
   "source": [
    "'''Describe doesn't work with cudf if string columns are present'''\n",
    "print(cdf_file[['Price','Quantity','Net_Price']].describe())\n",
    "print(pd_file.describe())"
   ]
  },
  {
   "cell_type": "code",
   "execution_count": 21,
   "metadata": {},
   "outputs": [
    {
     "name": "stdout",
     "output_type": "stream",
     "text": [
      "     Country           sum_Price            min_Price           max_Price  sum_Quantity  max_Quantity  min_Quantity ...        min_Net_Price\n",
      "22  Australia  4056.3199999999956  0.29000000000000004              662.25         20053           480           -24 ...              -662.25\n",
      "2    Austria  2482.8000000000015  0.12000000000000001               130.0          6479           120           -36 ...               -130.0\n",
      "12    Bahrain  352.91999999999985  0.42000000000000004  14.950000000000001          1015            96           -10 ...                -42.5\n",
      "26    Belgium    7226.74999999997                  0.0  1508.6499999999999         11980           120           -30 ...  -1508.6499999999999\n",
      "11    Bermuda                84.7  0.21000000000000002               12.75          2798          1152             2 ...   10.200000000000001\n",
      "[2 more columns]\n"
     ]
    },
    {
     "data": {
      "text/plain": [
       "                Country             \n",
       "Price      sum  Australia                4056.32\n",
       "                Austria                  2482.80\n",
       "                Bahrain                   352.92\n",
       "                Belgium                  7226.75\n",
       "                Bermuda                    84.70\n",
       "                                          ...   \n",
       "Net_Price  min  USA                       -25.50\n",
       "                United Arab Emirates     -503.90\n",
       "                United Kingdom         -53594.36\n",
       "                Unspecified             -1189.94\n",
       "                West Indies                 0.65\n",
       "Length: 360, dtype: float64"
      ]
     },
     "execution_count": 21,
     "metadata": {},
     "output_type": "execute_result"
    }
   ],
   "source": [
    "'''Group-By on frames'''\n",
    "cdf_group_by=cdf_file.groupby('Country',as_index=False).agg({'Price':['sum','min','max'],'Quantity' : ['sum', 'max','min'],'Net_Price':['sum','max','min']})\n",
    "print(cdf_group_by.head())\n",
    "pd_group_by=pd_file.groupby('Country').agg({'Price' : ['sum', 'max','min'], 'Quantity' : ['sum', 'max','min'],'Net_Price':['sum','max','min']})\n",
    "pd_group_by.unstack(level=0)"
   ]
  },
  {
   "cell_type": "code",
   "execution_count": 22,
   "metadata": {},
   "outputs": [],
   "source": [
    "del cdf_group_by,pd_group_by"
   ]
  },
  {
   "cell_type": "code",
   "execution_count": 23,
   "metadata": {},
   "outputs": [
    {
     "data": {
      "text/plain": [
       "str"
      ]
     },
     "execution_count": 23,
     "metadata": {},
     "output_type": "execute_result"
    }
   ],
   "source": [
    "'''CuDF doesn't support categories natively.\n",
    "Categories are inherently converted to string while representing'''\n",
    "pd_file2=pd_file.copy()\n",
    "pd_file2['Country_Cat']=pd_file2.Country\n",
    "pd_file2['Country_Cat']=pd_file2.Country_Cat.astype(\"category\")\n",
    "cdf_file2=cudf.DataFrame.from_pandas(pd_file2.copy())\n",
    "type(cdf_file2.Country_Cat[1])"
   ]
  },
  {
   "cell_type": "code",
   "execution_count": 24,
   "metadata": {},
   "outputs": [],
   "source": [
    "del pd_file2,cdf_file2"
   ]
  },
  {
   "cell_type": "code",
   "execution_count": 25,
   "metadata": {},
   "outputs": [
    {
     "name": "stdout",
     "output_type": "stream",
     "text": [
      "CPU times: user 18.8 ms, sys: 8.24 ms, total: 27.1 ms\n",
      "Wall time: 26.5 ms\n",
      "CPU times: user 328 ms, sys: 4.01 ms, total: 332 ms\n",
      "Wall time: 332 ms\n"
     ]
    }
   ],
   "source": [
    "'''String Functionality\n",
    "CuDF supports only nvstrings for string based maipulations.\n",
    "The functionality for strings is quite similar to re based maipulation.\n",
    "Simple regex block\n",
    "Detailed Documentation:https://rapids.readthedocs.io/projects/nvstrings/en/latest/api.html\n",
    "'''\n",
    "%time string_filter_cudf=cdf_file[cdf_file.Country.str.lower().str.contains('^un',regex=True)]\n",
    "%time string_filter_pandas=pd_file[pd_file.Country.str.lower().str.contains('^un',regex=True)]"
   ]
  },
  {
   "cell_type": "code",
   "execution_count": 26,
   "metadata": {},
   "outputs": [
    {
     "name": "stdout",
     "output_type": "stream",
     "text": [
      "CPU times: user 26.3 ms, sys: 7.98 ms, total: 34.3 ms\n",
      "Wall time: 33.7 ms\n",
      "CPU times: user 326 ms, sys: 7.93 ms, total: 334 ms\n",
      "Wall time: 334 ms\n"
     ]
    }
   ],
   "source": [
    "'''String Functionality\n",
    "CuDF supports only nvstrings for string based maipulations.The functionality for strings is quite similar to re\n",
    "based maipulation.\n",
    "Relatively complex regex block with the same search base\n",
    "Major Performance boost only when the search space/computation space is the bottleneck\n",
    "'''\n",
    "%time string_filter_cudf1=cdf_file[cdf_file.Country.str.lower().str.contains('^un|and[a-z]+$',regex=True)]\n",
    "%time string_filter_pandas1=pd_file[pd_file.Country.str.lower().str.contains('^un|and[a-z]+$',regex=True)]"
   ]
  }
 ],
 "metadata": {
  "kernelspec": {
   "display_name": "Python 3",
   "language": "python",
   "name": "python3"
  },
  "language_info": {
   "codemirror_mode": {
    "name": "ipython",
    "version": 3
   },
   "file_extension": ".py",
   "mimetype": "text/x-python",
   "name": "python",
   "nbconvert_exporter": "python",
   "pygments_lexer": "ipython3",
   "version": "3.7.6"
  }
 },
 "nbformat": 4,
 "nbformat_minor": 4
}
